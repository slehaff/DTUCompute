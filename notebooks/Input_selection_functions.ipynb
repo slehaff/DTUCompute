{
 "cells": [
  {
   "cell_type": "markdown",
   "metadata": {},
   "source": [
    "## default input"
   ]
  },
  {
   "cell_type": "code",
   "execution_count": null,
   "metadata": {},
   "outputs": [],
   "source": [
    "def load_input(data_folder):\n",
    "    dirlist = [ item for item in os.listdir(data_folder) if os.path.isdir(os.path.join(data_folder, item)) ]\n",
    "    num_unique_sets = (len(dirlist)-1)/2\n",
    "    \n",
    "    names = [\"imgfolder\",\"plyfolder\"]\n",
    "    \n",
    "    img_folder = data_folder +\"/\"+ names[0]\n",
    "    ply_folder = data_folder +\"/\"+ names[1]\n",
    "    all_images = sorted(os.listdir(img_folder))\n",
    "    all_ply = sorted(os.listdir(ply_folder))\n",
    "\n",
    "    all_paths_images = [img_folder+\"/\"+all_images[idx] for idx in range(len(all_images))]\n",
    "    all_paths_ply = [ply_folder+\"/\"+all_ply[idx] for idx in range(len(all_ply))]\n",
    "    \n",
    "    \n",
    "    # check that there is correspondence between images and ply files\n",
    "    assert len(all_paths_images) == len(all_paths_ply)\n",
    "    num_images = len(all_paths_images)\n",
    "    \n",
    "    print (\"default set:\") \n",
    "    print (f'-{names[0]}, contains {len(os.listdir(img_folder))} images ')\n",
    "    print (f'-{names[1]}, contains {len(os.listdir(ply_folder))} ply  ')\n",
    "    \n",
    "    labels =  find_labels(names)\n",
    "    \n",
    "    return all_paths_images,all_paths_ply, num_images, labels[0]"
   ]
  },
  {
   "cell_type": "markdown",
   "metadata": {},
   "source": [
    "## choose input"
   ]
  },
  {
   "cell_type": "code",
   "execution_count": null,
   "metadata": {},
   "outputs": [],
   "source": [
    "def select_input_files(data_folder):\n",
    "    #dirlist = [ item for item in os.listdir(data_folder) if os.path.isdir(os.path.join(data_folder, item)) ]\n",
    "    dlist = all_files_containing(\"folder\", extension = \"\")\n",
    "    dlist = sorted([item[2:] for item in dlist])\n",
    "    #print (dlist)\n",
    "    dirlist = [os.path.join(data_folder, item) for item in dlist]\n",
    "    #print (*dirlist, sep = \"\\n\")\n",
    "    dirlist_pairs = set([item[3:] for item in dlist])\n",
    "    \n",
    "    num_unique_sets = len(dirlist_pairs)\n",
    "    \n",
    "    print (\"default set: \\n-imgfolder \\n-plyfolder \")\n",
    "    print (\"do you want to select a different input? [y/n]\")\n",
    "    choice = input()\n",
    "    if choice.lower() in setno:\n",
    "            names = [\"imgfolder\",\"plyfolder\"]\n",
    "            \n",
    "            img_folder = data_folder +\"/\"+ names[0]\n",
    "            ply_folder = data_folder +\"/\"+ names[1]\n",
    "\n",
    "    else:\n",
    "        if num_unique_sets ==2: \n",
    "            print (\"alternative set selected: \\n-imgfolder_2 \\n-plyfolder_2 \")\n",
    "            \n",
    "            names = [\"imgfolder_2\",\"plyfolder_2\"]\n",
    "            \n",
    "            img_folder = data_folder +\"/\"+ names[0]\n",
    "            ply_folder = data_folder +\"/\"+ names[1]\n",
    "            \n",
    "        else: \n",
    "            print (f\"\\nAvailable folders in \\n{data_folder}: \")\n",
    "            dirlist = sorted(dirlist)\n",
    "            len_dirlist = [len(os.listdir(subdir)) for subdir in dirlist]\n",
    "            #for i in range(len(dirlist)):\n",
    "                #print (f\"{i+1}-img{dirlist_pairs[i]},ply{dirlist_pairs[i]} with ({len_dirlist[i]},{len_dirlist[i+num_unique_sets]}) files\")\n",
    "            \n",
    "            \n",
    "            \n",
    "            print (\"\\n(subfolder,number of files)\")\n",
    "            #print (*zip(dirlist,len_dirlist), sep= \"\\n\")\n",
    "            for i in range(len(dirlist)):\n",
    "                print (f\"{i+1})  {dlist[i]}, with {len_dirlist[i]} files\")\n",
    "            \n",
    "            names = []\n",
    "            print (\"\\nselect images input folder\")\n",
    "            input_img_folder = input()\n",
    "            names.append(input_img_folder)\n",
    "            print (\"select ply input folder\")\n",
    "            input_ply_folder = input()\n",
    "            names.append(input_ply_folder)\n",
    "            \n",
    "            img_folder = data_folder +\"/\"+ names[0]\n",
    "            ply_folder = data_folder +\"/\"+ names[1]\n",
    "\n",
    "    all_images = sorted(os.listdir(img_folder))\n",
    "    all_ply = sorted(os.listdir(ply_folder))\n",
    "\n",
    "    all_paths_images = [img_folder+\"/\"+all_images[idx] for idx in range(len(all_images))]\n",
    "    all_paths_ply = [ply_folder+\"/\"+all_ply[idx] for idx in range(len(all_ply))]\n",
    "    \n",
    "    \n",
    "    # check that there is correspondence between images and ply files\n",
    "    assert len(all_paths_images) == len(all_paths_ply)\n",
    "    num_images = len(all_paths_images)\n",
    "    \n",
    "    labels =  find_labels(names)\n",
    "    \n",
    "    return all_paths_images,all_paths_ply, num_images,labels[0]"
   ]
  },
  {
   "cell_type": "markdown",
   "metadata": {},
   "source": [
    "## helper functions"
   ]
  },
  {
   "cell_type": "code",
   "execution_count": 1,
   "metadata": {},
   "outputs": [],
   "source": [
    "def chunks(lst, n):\n",
    "    \"\"\"Yield successive n-sized chunks from lst.\"\"\"\n",
    "    for i in range(0, len(lst), n):\n",
    "        yield lst[i:i + n]"
   ]
  },
  {
   "cell_type": "code",
   "execution_count": 3,
   "metadata": {},
   "outputs": [],
   "source": [
    "def find_labels(names):\n",
    "    # load labels if existing\n",
    "    # labels are manually added in a text file in the format \"imgfolder_content.txt\"\n",
    "    labfile = \"%s_content\"%names[0][3:]\n",
    "    labels_file = last_file_containing(labfile, extension = \".txt\")\n",
    "    if labels_file is not None:\n",
    "        print (\"found labels file: \")\n",
    "        labels_file = open(labfile+\".txt\", 'r')\n",
    "        labels = [line.split(',') for line in labels_file.readlines()]\n",
    "        print (*labels)\n",
    "    else:\n",
    "        print (\"no label file found\")\n",
    "        labels = None\n",
    "    return labels\n",
    "    "
   ]
  }
 ],
 "metadata": {
  "kernelspec": {
   "display_name": "Python 3",
   "language": "python",
   "name": "python3"
  },
  "language_info": {
   "codemirror_mode": {
    "name": "ipython",
    "version": 3
   },
   "file_extension": ".py",
   "mimetype": "text/x-python",
   "name": "python",
   "nbconvert_exporter": "python",
   "pygments_lexer": "ipython3",
   "version": "3.8.5"
  }
 },
 "nbformat": 4,
 "nbformat_minor": 4
}
