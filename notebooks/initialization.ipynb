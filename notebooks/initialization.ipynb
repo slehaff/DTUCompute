{
 "cells": [
  {
   "cell_type": "markdown",
   "metadata": {},
   "source": [
    "OS: macOS Catalina 10.15.6\n",
    "\n",
    "env: Python 3.8 environment"
   ]
  },
  {
   "cell_type": "markdown",
   "metadata": {},
   "source": [
    "# Installations"
   ]
  },
  {
   "cell_type": "markdown",
   "metadata": {},
   "source": [
    "Main installations:\n",
    "> pip install Pillow\n",
    "\n",
    "> pip install imageio \n",
    "\n",
    "> pip install cv2-plt-imshow  \n",
    "\n",
    "> conda install -c anaconda notebook==6.0.3\n",
    "\n",
    "> pip install open3d\n",
    "\n",
    "> conda install -c conda-forge trimesh\n",
    "\n",
    "Full list available under \"package-list.txt\" file."
   ]
  },
  {
   "cell_type": "markdown",
   "metadata": {},
   "source": [
    "## Import "
   ]
  },
  {
   "cell_type": "code",
   "execution_count": 2,
   "metadata": {},
   "outputs": [],
   "source": [
    "# 3d library\n",
    "import open3d as o3d\n",
    "\n",
    "# image elaboration libraries\n",
    "\n",
    "#!pip install Pillow \n",
    "#!pip install imageio\n",
    "#!pip install cv2-plt-imshow\n",
    "from IPython.display import Image\n",
    "from imageio import imread\n",
    "from imageio import imwrite\n",
    "from PIL import Image\n",
    "from IPython.display import Image as Im\n",
    "\n",
    "import cv2\n",
    "import matplotlib.pyplot as plt\n",
    "from cv2_plt_imshow import cv2_plt_imshow, plt_format\n",
    "\n",
    "# others\n",
    "import numpy as np\n",
    "import os\n",
    "import random as myrand\n",
    "\n",
    "\n",
    "#for timing and progress bar\n",
    "from tqdm.notebook import tqdm# progress bar\n",
    "import sys\n",
    "#from time import time \n",
    "import copy\n",
    "\n",
    "delimiter = ', ' \n",
    "myrand.seed(42)\n",
    "dash = '-'*80\n",
    "\n",
    "from datetime import date\n",
    "from datetime import datetime\n",
    "import pickle as pkl\n",
    "\n",
    "import timeit\n",
    "from timeit import default_timer as timer\n",
    "\n",
    "#pip install scikit-spatial\n",
    "from skspatial.objects import Points, Plane\n",
    "from skspatial.plotting import plot_3d\n",
    "from sys import platform"
   ]
  },
  {
   "cell_type": "code",
   "execution_count": 3,
   "metadata": {},
   "outputs": [],
   "source": [
    "# with glob \n",
    "import glob\n",
    "import re\n",
    "import trimesh "
   ]
  },
  {
   "cell_type": "markdown",
   "metadata": {},
   "source": [
    "## helper functions -file handling"
   ]
  },
  {
   "cell_type": "code",
   "execution_count": 4,
   "metadata": {},
   "outputs": [],
   "source": [
    "def last_visualization_parameters(day = None):\n",
    "    if day is None: \n",
    "        last_screen = sorted([name for name in glob.glob('./Screen*.json') if name[2:8] == \"Screen\" ])[-1] # last screen\n",
    "        last_render = sorted([name for name in glob.glob('./Render*.json') if name[2:8] == \"Render\" ])[-1]  # last render\n",
    "    \n",
    "    else:\n",
    "        last_screen = sorted([name for name in glob.glob('./Screen*.json') \n",
    "                              if (name[2:8] == \"Screen\" and name[-16:-14] == str(day))])[-1] # last screen\n",
    "        \n",
    "        last_render = sorted([name for name in glob.glob('./Render*.json')\n",
    "                              if (name[2:8] == \"Render\" and name[-16:-14] == str(day))])[-1]  # last render\n",
    "    return last_screen, last_render"
   ]
  },
  {
   "cell_type": "code",
   "execution_count": 5,
   "metadata": {},
   "outputs": [],
   "source": [
    "#https://realpython.com/working-with-files-in-python/#more-advanced-pattern-matching\n",
    "def last_file(extension=''):\n",
    "        newest = max(glob.iglob(f'./*{extension}'), key=os.path.getctime)\n",
    "        return newest\n",
    "    \n",
    "def all_files_containing(word, extension = None):\n",
    "    all_files = [name for name in glob.glob(f'./*{word}*')]\n",
    "    if extension is not None: \n",
    "        all_files = [name for name in all_files if os.path.splitext(name)[1] == str(extension)]\n",
    "    return all_files\n",
    "\n",
    "def last_file_containing(word, extension = None):\n",
    "    \"\"\"\n",
    "    last_file_containing(\"outlier\", extension = '.png')\n",
    "    \"\"\"\n",
    "    all_files = all_files_containing(word, extension)\n",
    "    try:\n",
    "        last_file = sorted(all_files)[-1]\n",
    "    except Exception as e:\n",
    "        #print (e)\n",
    "        print (f\"Found {len(all_files)} files containing {word} with extension {extension}\")\n",
    "        return None\n",
    "    else: \n",
    "        return last_file\n",
    "\n",
    "def last_n_files_containing(word,n, extension = None):\n",
    "    \"\"\"\n",
    "    last_n_files_containing(\"outlier\",n= 2, extension = '.png')\n",
    "    \"\"\"\n",
    "    all_files = all_files_containing(word, extension)\n",
    "    try:\n",
    "        lasts_file = sorted(all_files)[-n:]\n",
    "        \n",
    "    except Exception as e:\n",
    "        print (e)\n",
    "        print (f\"Found {len(all_files)} files with extension {extension}\")\n",
    "        \n",
    "    else: return lasts_file\n",
    "\n",
    "\n",
    "def select_from_files_containing(word, extension = None):\n",
    "    \"\"\"\n",
    "    selected_file = select_from_files_containing(\"outlier\", extension = '.png')\n",
    "    \"\"\"\n",
    "    answer =\"n\"\n",
    "    while answer == \"n\":\n",
    "        all_files = all_files_containing(word, extension)\n",
    "        print (*enumerate(all_files), sep = \"\\n\")\n",
    "        print (\"\\nselect file\")\n",
    "        selected = input()\n",
    "        \n",
    "        if selected.isdecimal():\n",
    "            selected_file = all_files[int(selected)]\n",
    "        else:\n",
    "            selected_file = selected\n",
    "            \n",
    "        if selected_file in all_files:\n",
    "            print (f\"\\nfile selected: {selected_file}\")\n",
    "            print (\"y to confirm, n to redo the selection, any key to exit without selecting\")\n",
    "            answer = input()\n",
    "            \n",
    "    if answer == \"y\":\n",
    "        return selected_file\n",
    "    else:\n",
    "        return None"
   ]
  },
  {
   "cell_type": "code",
   "execution_count": 6,
   "metadata": {},
   "outputs": [],
   "source": [
    "# timestamp\n",
    "def mytimestamp(sep= \"-\"):\n",
    "    \"\"\"\n",
    "    mytimestamp()\n",
    "    \"\"\"\n",
    "    now = datetime.now()\n",
    "    dt_string = now.strftime(\"%d%m%Y-%Hh%Mm%Ss\")\n",
    "    return dt_string+sep"
   ]
  },
  {
   "cell_type": "markdown",
   "metadata": {},
   "source": [
    "## set up directories"
   ]
  },
  {
   "cell_type": "code",
   "execution_count": 13,
   "metadata": {},
   "outputs": [
    {
     "name": "stdout",
     "output_type": "stream",
     "text": [
      "loading directory file\n"
     ]
    }
   ],
   "source": [
    "# creating directory file\n",
    "cwd = os.getcwd()\n",
    "#sorted(os.listdir(cwd))\n",
    "text_file = last_file_containing(\"mydirectory\", extension = \".txt\")\n",
    "if text_file is not None:\n",
    "    print (\"loading directory file\")\n",
    "    with open('mydirectory.txt', 'r') as file:\n",
    "        ROOT = file.read()#.replace('\\n', '')\n",
    "else: \n",
    "    print (\"no previous directory file found\")\n",
    "    cwd = os.getcwd()\n",
    "    ROOT = cwd[:-10]\n",
    "    print (\"creating directory file\")\n",
    "    with open(\"mydirectory.txt\", \"w\") as text_file:\n",
    "        text_file.write(\"%s\" %ROOT)\n",
    "    os.chdir(ROOT)\n",
    "    with open(\"mydirectory.txt\", \"w\") as text_file:\n",
    "        text_file.write(\"%s\" %ROOT)\n",
    "    \n",
    "\n",
    "#print (\"ROOT: \",ROOT)\n",
    "notebooks_folder = ROOT+\"/notebooks\"\n",
    "data_folder = ROOT+\"/data\"\n",
    "\n",
    "os.chdir(data_folder)\n",
    "with open(\"mydirectory.txt\", \"w\") as text_file:\n",
    "        text_file.write(\"%s\" %ROOT)"
   ]
  },
  {
   "cell_type": "markdown",
   "metadata": {},
   "source": [
    "## default variables"
   ]
  },
  {
   "cell_type": "markdown",
   "metadata": {},
   "source": [
    "Here some default variables are created and made accessible throughout the various notebooks."
   ]
  },
  {
   "cell_type": "code",
   "execution_count": null,
   "metadata": {},
   "outputs": [],
   "source": [
    "print (\"-\"*40)\n",
    "print (\"loaded variables from initialization file: \")\n",
    "print (\"> myparams, myconfiguration_file\")\n",
    "print (\"> list_picked_id_source, list_picked_id_target\")\n",
    "print (\"> data_folder\")\n",
    "print (\"-\"*40)"
   ]
  },
  {
   "cell_type": "code",
   "execution_count": null,
   "metadata": {},
   "outputs": [],
   "source": [
    "#last_file(\".json\")"
   ]
  },
  {
   "cell_type": "code",
   "execution_count": null,
   "metadata": {},
   "outputs": [],
   "source": [
    "myparams, myconfiguration_file = last_visualization_parameters()"
   ]
  },
  {
   "cell_type": "code",
   "execution_count": 12,
   "metadata": {},
   "outputs": [],
   "source": [
    "setno = [\"no\",\"n\"]"
   ]
  },
  {
   "cell_type": "code",
   "execution_count": null,
   "metadata": {},
   "outputs": [],
   "source": [
    "### good sets of points from previous trials with manual selection\n",
    "list_picked_id_source = [[25232, 44649, 5280],[47197,11790,9178]]\n",
    "list_picked_id_target = [[24053,22883,38684],[26226,25403,16180]]"
   ]
  },
  {
   "cell_type": "code",
   "execution_count": null,
   "metadata": {},
   "outputs": [],
   "source": []
  },
  {
   "cell_type": "code",
   "execution_count": null,
   "metadata": {},
   "outputs": [],
   "source": []
  },
  {
   "cell_type": "code",
   "execution_count": null,
   "metadata": {},
   "outputs": [],
   "source": []
  },
  {
   "cell_type": "code",
   "execution_count": null,
   "metadata": {},
   "outputs": [],
   "source": []
  }
 ],
 "metadata": {
  "kernelspec": {
   "display_name": "Python 3",
   "language": "python",
   "name": "python3"
  },
  "language_info": {
   "codemirror_mode": {
    "name": "ipython",
    "version": 3
   },
   "file_extension": ".py",
   "mimetype": "text/x-python",
   "name": "python",
   "nbconvert_exporter": "python",
   "pygments_lexer": "ipython3",
   "version": "3.8.5"
  }
 },
 "nbformat": 4,
 "nbformat_minor": 4
}
